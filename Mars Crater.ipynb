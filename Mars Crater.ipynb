{
 "cells": [
  {
   "cell_type": "code",
   "execution_count": 1,
   "metadata": {},
   "outputs": [],
   "source": [
    "import numpy as np\n",
    "import pandas as pd\n",
    "import warnings\n",
    "warnings.filterwarnings('ignore')\n",
    "from sklearn.model_selection import train_test_split\n",
    "from sklearn.preprocessing import MinMaxScaler\n",
    "from sklearn.metrics import classification_report\n",
    "from sklearn.linear_model import LogisticRegression\n",
    "from sklearn.metrics import roc_auc_score\n",
    "from sklearn.tree import DecisionTreeClassifier\n",
    "from sklearn.ensemble import RandomForestClassifier\n",
    "from sklearn.ensemble import BaggingClassifier\n",
    "from sklearn.ensemble import VotingClassifier\n"
   ]
  },
  {
   "cell_type": "code",
   "execution_count": 2,
   "metadata": {},
   "outputs": [
    {
     "data": {
      "text/html": [
       "<div>\n",
       "<style scoped>\n",
       "    .dataframe tbody tr th:only-of-type {\n",
       "        vertical-align: middle;\n",
       "    }\n",
       "\n",
       "    .dataframe tbody tr th {\n",
       "        vertical-align: top;\n",
       "    }\n",
       "\n",
       "    .dataframe thead th {\n",
       "        text-align: right;\n",
       "    }\n",
       "</style>\n",
       "<table border=\"1\" class=\"dataframe\">\n",
       "  <thead>\n",
       "    <tr style=\"text-align: right;\">\n",
       "      <th></th>\n",
       "      <th>Unnamed: 0</th>\n",
       "      <th>attr0</th>\n",
       "      <th>attr1</th>\n",
       "      <th>attr2</th>\n",
       "      <th>attr3</th>\n",
       "      <th>attr4</th>\n",
       "      <th>attr5</th>\n",
       "      <th>attr6</th>\n",
       "      <th>attr7</th>\n",
       "      <th>attr8</th>\n",
       "      <th>...</th>\n",
       "      <th>attr1080</th>\n",
       "      <th>attr1081</th>\n",
       "      <th>attr1082</th>\n",
       "      <th>attr1083</th>\n",
       "      <th>attr1084</th>\n",
       "      <th>attr1085</th>\n",
       "      <th>attr1086</th>\n",
       "      <th>attr1087</th>\n",
       "      <th>attr1088</th>\n",
       "      <th>attr1089</th>\n",
       "    </tr>\n",
       "  </thead>\n",
       "  <tbody>\n",
       "    <tr>\n",
       "      <th>0</th>\n",
       "      <td>0</td>\n",
       "      <td>-4.049514</td>\n",
       "      <td>-5.055907</td>\n",
       "      <td>4.813832</td>\n",
       "      <td>10.975995</td>\n",
       "      <td>10.599993</td>\n",
       "      <td>8.103339</td>\n",
       "      <td>7.260105</td>\n",
       "      <td>3.984216</td>\n",
       "      <td>-3.352366</td>\n",
       "      <td>...</td>\n",
       "      <td>39.055706</td>\n",
       "      <td>39.480231</td>\n",
       "      <td>48.177327</td>\n",
       "      <td>49.460693</td>\n",
       "      <td>50.797614</td>\n",
       "      <td>50.680413</td>\n",
       "      <td>44.778675</td>\n",
       "      <td>36.101397</td>\n",
       "      <td>44.447948</td>\n",
       "      <td>0</td>\n",
       "    </tr>\n",
       "    <tr>\n",
       "      <th>1</th>\n",
       "      <td>1</td>\n",
       "      <td>3.514292</td>\n",
       "      <td>4.721218</td>\n",
       "      <td>-2.536391</td>\n",
       "      <td>-8.388817</td>\n",
       "      <td>-10.787064</td>\n",
       "      <td>-9.024258</td>\n",
       "      <td>-5.473323</td>\n",
       "      <td>7.646837</td>\n",
       "      <td>15.297336</td>\n",
       "      <td>...</td>\n",
       "      <td>34.934308</td>\n",
       "      <td>34.224270</td>\n",
       "      <td>42.633077</td>\n",
       "      <td>46.226847</td>\n",
       "      <td>49.730228</td>\n",
       "      <td>49.624121</td>\n",
       "      <td>45.398516</td>\n",
       "      <td>39.585452</td>\n",
       "      <td>45.971939</td>\n",
       "      <td>0</td>\n",
       "    </tr>\n",
       "    <tr>\n",
       "      <th>2</th>\n",
       "      <td>2</td>\n",
       "      <td>-11.318180</td>\n",
       "      <td>9.405884</td>\n",
       "      <td>29.141795</td>\n",
       "      <td>21.277405</td>\n",
       "      <td>-5.122294</td>\n",
       "      <td>-21.736671</td>\n",
       "      <td>-12.850864</td>\n",
       "      <td>3.134460</td>\n",
       "      <td>7.207608</td>\n",
       "      <td>...</td>\n",
       "      <td>86.905997</td>\n",
       "      <td>78.811334</td>\n",
       "      <td>84.165826</td>\n",
       "      <td>86.976997</td>\n",
       "      <td>116.149402</td>\n",
       "      <td>107.729029</td>\n",
       "      <td>96.534329</td>\n",
       "      <td>80.428859</td>\n",
       "      <td>114.810516</td>\n",
       "      <td>0</td>\n",
       "    </tr>\n",
       "    <tr>\n",
       "      <th>3</th>\n",
       "      <td>3</td>\n",
       "      <td>-7.143218</td>\n",
       "      <td>-9.869755</td>\n",
       "      <td>-7.905797</td>\n",
       "      <td>4.271652</td>\n",
       "      <td>22.890720</td>\n",
       "      <td>28.454973</td>\n",
       "      <td>12.167586</td>\n",
       "      <td>-2.024773</td>\n",
       "      <td>-2.093635</td>\n",
       "      <td>...</td>\n",
       "      <td>65.272842</td>\n",
       "      <td>63.522759</td>\n",
       "      <td>67.886176</td>\n",
       "      <td>67.388943</td>\n",
       "      <td>93.066755</td>\n",
       "      <td>91.394297</td>\n",
       "      <td>70.704254</td>\n",
       "      <td>63.252282</td>\n",
       "      <td>82.057148</td>\n",
       "      <td>0</td>\n",
       "    </tr>\n",
       "    <tr>\n",
       "      <th>4</th>\n",
       "      <td>4</td>\n",
       "      <td>-5.027305</td>\n",
       "      <td>5.600857</td>\n",
       "      <td>10.312207</td>\n",
       "      <td>3.855865</td>\n",
       "      <td>-1.988057</td>\n",
       "      <td>4.749132</td>\n",
       "      <td>9.700589</td>\n",
       "      <td>1.991069</td>\n",
       "      <td>-2.491197</td>\n",
       "      <td>...</td>\n",
       "      <td>80.313460</td>\n",
       "      <td>77.703464</td>\n",
       "      <td>93.575195</td>\n",
       "      <td>104.748562</td>\n",
       "      <td>129.462818</td>\n",
       "      <td>124.996294</td>\n",
       "      <td>118.110321</td>\n",
       "      <td>108.709732</td>\n",
       "      <td>139.685624</td>\n",
       "      <td>0</td>\n",
       "    </tr>\n",
       "  </tbody>\n",
       "</table>\n",
       "<p>5 rows × 1091 columns</p>\n",
       "</div>"
      ],
      "text/plain": [
       "   Unnamed: 0      attr0     attr1      attr2      attr3      attr4  \\\n",
       "0           0  -4.049514 -5.055907   4.813832  10.975995  10.599993   \n",
       "1           1   3.514292  4.721218  -2.536391  -8.388817 -10.787064   \n",
       "2           2 -11.318180  9.405884  29.141795  21.277405  -5.122294   \n",
       "3           3  -7.143218 -9.869755  -7.905797   4.271652  22.890720   \n",
       "4           4  -5.027305  5.600857  10.312207   3.855865  -1.988057   \n",
       "\n",
       "       attr5      attr6     attr7      attr8  ...   attr1080   attr1081  \\\n",
       "0   8.103339   7.260105  3.984216  -3.352366  ...  39.055706  39.480231   \n",
       "1  -9.024258  -5.473323  7.646837  15.297336  ...  34.934308  34.224270   \n",
       "2 -21.736671 -12.850864  3.134460   7.207608  ...  86.905997  78.811334   \n",
       "3  28.454973  12.167586 -2.024773  -2.093635  ...  65.272842  63.522759   \n",
       "4   4.749132   9.700589  1.991069  -2.491197  ...  80.313460  77.703464   \n",
       "\n",
       "    attr1082    attr1083    attr1084    attr1085    attr1086    attr1087  \\\n",
       "0  48.177327   49.460693   50.797614   50.680413   44.778675   36.101397   \n",
       "1  42.633077   46.226847   49.730228   49.624121   45.398516   39.585452   \n",
       "2  84.165826   86.976997  116.149402  107.729029   96.534329   80.428859   \n",
       "3  67.886176   67.388943   93.066755   91.394297   70.704254   63.252282   \n",
       "4  93.575195  104.748562  129.462818  124.996294  118.110321  108.709732   \n",
       "\n",
       "     attr1088  attr1089  \n",
       "0   44.447948         0  \n",
       "1   45.971939         0  \n",
       "2  114.810516         0  \n",
       "3   82.057148         0  \n",
       "4  139.685624         0  \n",
       "\n",
       "[5 rows x 1091 columns]"
      ]
     },
     "execution_count": 2,
     "metadata": {},
     "output_type": "execute_result"
    }
   ],
   "source": [
    "df = pd.read_csv(r'C:\\JupyterNotebook\\DataSet\\Mars Crater.csv')\n",
    "df.head()"
   ]
  },
  {
   "cell_type": "code",
   "execution_count": 3,
   "metadata": {},
   "outputs": [],
   "source": [
    "X = df.drop(columns=['attr1089'])\n",
    "y = df['attr1089']"
   ]
  },
  {
   "cell_type": "code",
   "execution_count": 4,
   "metadata": {},
   "outputs": [],
   "source": [
    "X_train,X_test,y_train,y_test = train_test_split(X,y,test_size=0.3,random_state=4)"
   ]
  },
  {
   "cell_type": "code",
   "execution_count": 5,
   "metadata": {},
   "outputs": [
    {
     "name": "stdout",
     "output_type": "stream",
     "text": [
      "0.4646647584547681\n"
     ]
    }
   ],
   "source": [
    "scaler = MinMaxScaler()\n",
    "scaler.fit(X_train)\n",
    "X_train = scaler.transform(X_train)\n",
    "X_test = scaler.transform(X_test)\n",
    "\n",
    "print(X_test[45,5])"
   ]
  },
  {
   "cell_type": "code",
   "execution_count": 6,
   "metadata": {},
   "outputs": [
    {
     "data": {
      "text/plain": [
       "LogisticRegression()"
      ]
     },
     "execution_count": 6,
     "metadata": {},
     "output_type": "execute_result"
    }
   ],
   "source": [
    "lr = LogisticRegression()\n",
    "lr.fit(X_train,y_train)"
   ]
  },
  {
   "cell_type": "code",
   "execution_count": 7,
   "metadata": {},
   "outputs": [],
   "source": [
    "y_pred = lr.predict(X_test)\n",
    "roc_score = roc_auc_score(y_pred,y_test)"
   ]
  },
  {
   "cell_type": "code",
   "execution_count": 8,
   "metadata": {},
   "outputs": [
    {
     "data": {
      "text/plain": [
       "DecisionTreeClassifier(random_state=4)"
      ]
     },
     "execution_count": 8,
     "metadata": {},
     "output_type": "execute_result"
    }
   ],
   "source": [
    "dt = DecisionTreeClassifier(random_state = 4)\n",
    "dt.fit(X_train,y_train)"
   ]
  },
  {
   "cell_type": "code",
   "execution_count": 9,
   "metadata": {},
   "outputs": [],
   "source": [
    "accuracy = dt.score(X_test,y_test)\n",
    "y_pred = dt.predict(X_test)\n",
    "roc_score = roc_auc_score(y_test,y_pred)"
   ]
  },
  {
   "cell_type": "code",
   "execution_count": 10,
   "metadata": {},
   "outputs": [
    {
     "data": {
      "text/plain": [
       "RandomForestClassifier(random_state=4)"
      ]
     },
     "execution_count": 10,
     "metadata": {},
     "output_type": "execute_result"
    }
   ],
   "source": [
    "rfc = RandomForestClassifier(random_state=4)\n",
    "rfc.fit(X_train,y_train)"
   ]
  },
  {
   "cell_type": "code",
   "execution_count": 11,
   "metadata": {},
   "outputs": [],
   "source": [
    "y_pred = rfc.predict(X_test)\n",
    "accuracy = rfc.score(X_test,y_test)"
   ]
  },
  {
   "cell_type": "code",
   "execution_count": 12,
   "metadata": {},
   "outputs": [],
   "source": [
    "roc_score = roc_auc_score(y_test,y_pred)"
   ]
  },
  {
   "cell_type": "code",
   "execution_count": 13,
   "metadata": {},
   "outputs": [
    {
     "data": {
      "text/plain": [
       "0.8352941176470589"
      ]
     },
     "execution_count": 13,
     "metadata": {},
     "output_type": "execute_result"
    }
   ],
   "source": [
    "bagging_clf = BaggingClassifier(base_estimator = DecisionTreeClassifier(), n_estimators=100 , max_samples=100 , random_state=0)\n",
    "bagging_clf.fit(X_train,y_train)\n",
    "score_bagging = bagging_clf.score(X_test,y_test)\n",
    "\n",
    "score_bagging"
   ]
  },
  {
   "cell_type": "code",
   "execution_count": 14,
   "metadata": {},
   "outputs": [],
   "source": [
    "clf_1 = LogisticRegression()\n",
    "clf_2 = DecisionTreeClassifier(random_state=4)\n",
    "clf_3 = RandomForestClassifier(random_state=4)"
   ]
  },
  {
   "cell_type": "code",
   "execution_count": 15,
   "metadata": {},
   "outputs": [],
   "source": [
    "model_list = [('lr',clf_1),('DT',clf_2),('RF',clf_3)]"
   ]
  },
  {
   "cell_type": "code",
   "execution_count": 16,
   "metadata": {},
   "outputs": [
    {
     "data": {
      "text/plain": [
       "0.9203619909502262"
      ]
     },
     "execution_count": 16,
     "metadata": {},
     "output_type": "execute_result"
    }
   ],
   "source": [
    "voting_clf_hard = VotingClassifier(estimators = model_list,voting = 'hard')\n",
    "voting_clf_hard.fit(X_train,y_train)\n",
    "hard_voting_score = voting_clf_hard.score(X_test,y_test)\n",
    "hard_voting_score"
   ]
  },
  {
   "cell_type": "code",
   "execution_count": null,
   "metadata": {},
   "outputs": [],
   "source": []
  }
 ],
 "metadata": {
  "kernelspec": {
   "display_name": "Python 3",
   "language": "python",
   "name": "python3"
  },
  "language_info": {
   "codemirror_mode": {
    "name": "ipython",
    "version": 3
   },
   "file_extension": ".py",
   "mimetype": "text/x-python",
   "name": "python",
   "nbconvert_exporter": "python",
   "pygments_lexer": "ipython3",
   "version": "3.7.3"
  }
 },
 "nbformat": 4,
 "nbformat_minor": 2
}
